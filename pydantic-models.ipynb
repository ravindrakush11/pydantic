{
 "cells": [
  {
   "cell_type": "markdown",
   "id": "5eec49ca-7849-49e9-8581-3aa3a9fd5be0",
   "metadata": {},
   "source": [
    "## Basic Model Usage"
   ]
  },
  {
   "cell_type": "code",
   "execution_count": 14,
   "id": "45235157-0179-4b05-8e02-0ec4ee6688a7",
   "metadata": {},
   "outputs": [],
   "source": [
    "from pydantic import BaseModel, ConfigDict\n",
    "\n",
    "class User(BaseModel):\n",
    "    id: int\n",
    "    name: str = \"Jane Doe\"\n",
    "\n",
    "    model_config = ConfigDict(str_max_length = 10)\n",
    "\n",
    "user = User(id = '123')"
   ]
  },
  {
   "cell_type": "code",
   "execution_count": 15,
   "id": "eacd1f27-4c5f-4bf4-a103-a4ea434def40",
   "metadata": {},
   "outputs": [],
   "source": [
    "# Fields of a model can be accessed as normal attributes of the user object:\n",
    "\n",
    "assert user.name == \"Jane Doe\"\n",
    "assert user.id == 123\n",
    "assert isinstance(user.id, int)"
   ]
  },
  {
   "cell_type": "code",
   "execution_count": 17,
   "id": "5945e357-2d5d-436c-985a-dee37f35ab8c",
   "metadata": {},
   "outputs": [],
   "source": [
    "# The model instance can be serialized using the model_dump() method:\n",
    "\n",
    "assert user.model_dump() == {'id': 123, 'name': \"Jane Doe\"}"
   ]
  },
  {
   "cell_type": "code",
   "execution_count": 18,
   "id": "77750b1b-b52d-4985-828c-22ffea3290ef",
   "metadata": {},
   "outputs": [],
   "source": [
    "# By default, models are mutable and field values can be changed through attribute assignment:\n",
    "\n",
    "user.id = 321\n",
    "assert user.id == 321"
   ]
  },
  {
   "cell_type": "code",
   "execution_count": null,
   "id": "4b6c12b0-f430-468a-ba66-366a5d4d997f",
   "metadata": {},
   "outputs": [],
   "source": []
  },
  {
   "cell_type": "code",
   "execution_count": null,
   "id": "fe01128a-3810-4a29-8dd4-59656320e06e",
   "metadata": {},
   "outputs": [],
   "source": []
  },
  {
   "cell_type": "code",
   "execution_count": null,
   "id": "b4fedeff-d57f-4ffd-9084-aa08c7298758",
   "metadata": {},
   "outputs": [],
   "source": []
  },
  {
   "cell_type": "code",
   "execution_count": 19,
   "id": "b685321c-d0b5-4f2f-b2b5-2519e7005d9c",
   "metadata": {
    "collapsed": true,
    "jupyter": {
     "outputs_hidden": true
    },
    "scrolled": true
   },
   "outputs": [
    {
     "ename": "ValidationError",
     "evalue": "1 validation error for Boo\nint\n  Input should be None [type=none_required, input_value=123, input_type=int]\n    For further information visit https://errors.pydantic.dev/2.9/v/none_required",
     "output_type": "error",
     "traceback": [
      "\u001b[1;31m---------------------------------------------------------------------------\u001b[0m",
      "\u001b[1;31mValidationError\u001b[0m                           Traceback (most recent call last)",
      "Cell \u001b[1;32mIn[19], line 8\u001b[0m\n\u001b[0;32m      5\u001b[0m \u001b[38;5;28;01mclass\u001b[39;00m\u001b[38;5;250m \u001b[39m\u001b[38;5;21;01mBoo\u001b[39;00m(BaseModel):\n\u001b[0;32m      6\u001b[0m     \u001b[38;5;28mint\u001b[39m: Optional[\u001b[38;5;28mint\u001b[39m] \u001b[38;5;241m=\u001b[39m \u001b[38;5;28;01mNone\u001b[39;00m\n\u001b[1;32m----> 8\u001b[0m m \u001b[38;5;241m=\u001b[39m \u001b[43mBoo\u001b[49m\u001b[43m(\u001b[49m\u001b[38;5;28;43mint\u001b[39;49m\u001b[43m \u001b[49m\u001b[38;5;241;43m=\u001b[39;49m\u001b[43m \u001b[49m\u001b[38;5;241;43m123\u001b[39;49m\u001b[43m)\u001b[49m\n",
      "File \u001b[1;32m~\\AppData\\Local\\Programs\\Python\\Python310\\lib\\site-packages\\pydantic\\main.py:212\u001b[0m, in \u001b[0;36mBaseModel.__init__\u001b[1;34m(self, **data)\u001b[0m\n\u001b[0;32m    210\u001b[0m \u001b[38;5;66;03m# `__tracebackhide__` tells pytest and some other tools to omit this function from tracebacks\u001b[39;00m\n\u001b[0;32m    211\u001b[0m __tracebackhide__ \u001b[38;5;241m=\u001b[39m \u001b[38;5;28;01mTrue\u001b[39;00m\n\u001b[1;32m--> 212\u001b[0m validated_self \u001b[38;5;241m=\u001b[39m \u001b[38;5;28;43mself\u001b[39;49m\u001b[38;5;241;43m.\u001b[39;49m\u001b[43m__pydantic_validator__\u001b[49m\u001b[38;5;241;43m.\u001b[39;49m\u001b[43mvalidate_python\u001b[49m\u001b[43m(\u001b[49m\u001b[43mdata\u001b[49m\u001b[43m,\u001b[49m\u001b[43m \u001b[49m\u001b[43mself_instance\u001b[49m\u001b[38;5;241;43m=\u001b[39;49m\u001b[38;5;28;43mself\u001b[39;49m\u001b[43m)\u001b[49m\n\u001b[0;32m    213\u001b[0m \u001b[38;5;28;01mif\u001b[39;00m \u001b[38;5;28mself\u001b[39m \u001b[38;5;129;01mis\u001b[39;00m \u001b[38;5;129;01mnot\u001b[39;00m validated_self:\n\u001b[0;32m    214\u001b[0m     warnings\u001b[38;5;241m.\u001b[39mwarn(\n\u001b[0;32m    215\u001b[0m         \u001b[38;5;124m'\u001b[39m\u001b[38;5;124mA custom validator is returning a value other than `self`.\u001b[39m\u001b[38;5;130;01m\\n\u001b[39;00m\u001b[38;5;124m'\u001b[39m\n\u001b[0;32m    216\u001b[0m         \u001b[38;5;124m\"\u001b[39m\u001b[38;5;124mReturning anything other than `self` from a top level model validator isn\u001b[39m\u001b[38;5;124m'\u001b[39m\u001b[38;5;124mt supported when validating via `__init__`.\u001b[39m\u001b[38;5;130;01m\\n\u001b[39;00m\u001b[38;5;124m\"\u001b[39m\n\u001b[0;32m    217\u001b[0m         \u001b[38;5;124m'\u001b[39m\u001b[38;5;124mSee the `model_validator` docs (https://docs.pydantic.dev/latest/concepts/validators/#model-validators) for more details.\u001b[39m\u001b[38;5;124m'\u001b[39m,\n\u001b[0;32m    218\u001b[0m         category\u001b[38;5;241m=\u001b[39m\u001b[38;5;28;01mNone\u001b[39;00m,\n\u001b[0;32m    219\u001b[0m     )\n",
      "\u001b[1;31mValidationError\u001b[0m: 1 validation error for Boo\nint\n  Input should be None [type=none_required, input_value=123, input_type=int]\n    For further information visit https://errors.pydantic.dev/2.9/v/none_required"
     ]
    }
   ],
   "source": [
    "# Validation Error\n",
    "from typing import Optional\n",
    "\n",
    "from pydantic import BaseModel\n",
    "\n",
    "class Boo(BaseModel):\n",
    "    int: Optional[int] = None\n",
    "\n",
    "m = Boo(int = 123)"
   ]
  },
  {
   "cell_type": "code",
   "execution_count": null,
   "id": "6492a0df-b4d0-4153-b5bf-0d04aadc8b7d",
   "metadata": {},
   "outputs": [],
   "source": []
  },
  {
   "cell_type": "markdown",
   "id": "9f4e443c-11a0-4c1d-9091-e571d379eb3f",
   "metadata": {},
   "source": [
    "## Data Conversion\n",
    "\n",
    "Pydantic may cast input data to force it to conform to model field types, and in some cases this may result in a loss of information."
   ]
  },
  {
   "cell_type": "code",
   "execution_count": 26,
   "id": "c0b73b54-a3eb-4f10-95dc-69a832b24b9e",
   "metadata": {},
   "outputs": [
    {
     "name": "stdout",
     "output_type": "stream",
     "text": [
      "{'a': 3, 'b': 2.72, 'c': 'binary data'}\n"
     ]
    }
   ],
   "source": [
    "from pydantic import BaseModel\n",
    "\n",
    "class Model(BaseModel):\n",
    "    a: int\n",
    "    b: float\n",
    "    c: str\n",
    "\n",
    "print(Model(a = 3.000, b = '2.72', c = b'binary data').model_dump())"
   ]
  },
  {
   "cell_type": "code",
   "execution_count": 27,
   "id": "074e539a-69c8-4b22-a6f0-75b896c63d1a",
   "metadata": {},
   "outputs": [
    {
     "name": "stdout",
     "output_type": "stream",
     "text": [
      "items=[1, 2, 3]\n"
     ]
    }
   ],
   "source": [
    "# Usage of List\n",
    "\n",
    "from pydantic import BaseModel\n",
    "\n",
    "class Model(BaseModel):\n",
    "    items: list[int]\n",
    "\n",
    "print(Model(items=(1,2, 3)))"
   ]
  },
  {
   "cell_type": "markdown",
   "id": "e491ba63-29a3-4522-9cf8-68ea99232603",
   "metadata": {},
   "source": [
    "## Extra data\n",
    "By default, Pydantic models won't error when you provide extra data, and these values will simply be ignored:\n",
    "\n"
   ]
  },
  {
   "cell_type": "code",
   "execution_count": 28,
   "id": "a3249851-482e-433c-ae93-a183e255be9b",
   "metadata": {},
   "outputs": [],
   "source": [
    "from pydantic import BaseModel\n",
    "\n",
    "class Model(BaseModel):\n",
    "    x: int\n",
    "\n",
    "m = Model(x = 1, y = 'a')\n",
    "\n",
    "assert m.model_dump() == {'x': 1}"
   ]
  },
  {
   "cell_type": "code",
   "execution_count": 29,
   "id": "1d84dfa8-475e-48ff-8c07-5245de0febfe",
   "metadata": {},
   "outputs": [],
   "source": [
    "from pydantic import BaseModel, ConfigDict\n",
    "\n",
    "class Model(BaseModel):\n",
    "    x: int\n",
    "\n",
    "    model_config = ConfigDict(extra = 'allow')\n",
    "\n",
    "m = Model(x=1, y = 'a')\n",
    "assert m.model_dump() == {'x': 1, 'y': 'a'}\n",
    "assert m.__pydantic_extra__ == {'y': 'a'}"
   ]
  },
  {
   "cell_type": "markdown",
   "id": "8636b404-b789-4166-9ccd-8f2c1d1c8fd0",
   "metadata": {},
   "source": [
    "# Nested Models"
   ]
  },
  {
   "cell_type": "code",
   "execution_count": 32,
   "id": "437b4a20-48c7-48ae-93f2-36489c4496ee",
   "metadata": {},
   "outputs": [
    {
     "name": "stdout",
     "output_type": "stream",
     "text": [
      "foo=Foo(count=4, size=None) bars=[Bar(apple='x1', banana='y'), Bar(apple='x2', banana='y')]\n"
     ]
    }
   ],
   "source": [
    "from pydantic import BaseModel\n",
    "\n",
    "class Foo(BaseModel):\n",
    "    count: int\n",
    "    size: float | None = None\n",
    "\n",
    "class Bar(BaseModel):\n",
    "    apple: str = \"x\"\n",
    "    banana: str = 'y'\n",
    "\n",
    "class Spam(BaseModel):\n",
    "    foo: Foo\n",
    "    bars: list[Bar]\n",
    "\n",
    "\n",
    "m = Spam(foo={'count': 4}, bars = [{'apple': 'x1'}, {'apple': 'x2'}])\n",
    "print(m)"
   ]
  },
  {
   "cell_type": "code",
   "execution_count": 36,
   "id": "637609e8-b063-467f-9ca2-c0ca123bbc04",
   "metadata": {},
   "outputs": [
    {
     "name": "stdout",
     "output_type": "stream",
     "text": [
      "{'foo': {'count': 4, 'size': None}, 'bars': [{'apple': 'x1', 'banana': 'y'}, {'apple': 'x2', 'banana': 'y'}]}\n"
     ]
    }
   ],
   "source": [
    "print(m.model_dump())"
   ]
  },
  {
   "cell_type": "code",
   "execution_count": null,
   "id": "5e6ed31d-85e4-496e-9799-a78b74509643",
   "metadata": {},
   "outputs": [],
   "source": []
  },
  {
   "cell_type": "markdown",
   "id": "c40bc52a-d13d-4f9f-a5ca-a9cf15f881bd",
   "metadata": {},
   "source": [
    "# Rebuilding Model Schema\n"
   ]
  },
  {
   "cell_type": "code",
   "execution_count": 40,
   "id": "22c8ff52-11cc-4142-835a-cd9a0a343850",
   "metadata": {},
   "outputs": [
    {
     "name": "stdout",
     "output_type": "stream",
     "text": [
      "{'$defs': {'Bar': {'properties': {}, 'title': 'Bar', 'type': 'object'}}, 'properties': {'x': {'$ref': '#/$defs/Bar'}}, 'required': ['x'], 'title': 'Foo', 'type': 'object'}\n"
     ]
    }
   ],
   "source": [
    "from pydantic import BaseModel, PydanticUserError\n",
    "\n",
    "class Foo(BaseModel):\n",
    "    x: 'Bar'\n",
    "\n",
    "try: \n",
    "    Foo.model_json_schema()\n",
    "except PydanticUserError as e:\n",
    "    print(e)\n",
    "\n",
    "\n",
    "class Bar(BaseModel):\n",
    "    pass\n",
    "\n",
    "Foo.model_rebuild()\n",
    "print(Foo.model_json_schema())"
   ]
  },
  {
   "cell_type": "markdown",
   "id": "691c6c15-7c20-4899-8604-8d449834a6e5",
   "metadata": {},
   "source": [
    "# Arbitrary class instances\n",
    "\n",
    "One common application of this functionality is integration with object-relational mappings (ORMs).\n",
    "\n",
    "* uses SQLAlchemy"
   ]
  },
  {
   "cell_type": "code",
   "execution_count": 45,
   "id": "0085bda0-f5b1-4bf7-bf40-1210f773554a",
   "metadata": {},
   "outputs": [
    {
     "name": "stdout",
     "output_type": "stream",
     "text": [
      "<__main__.CompanyOrm object at 0x000001F6A2222D40>\n",
      "\n",
      "id=123 public_key='foobar' domains=['example', 'foobar.com']\n"
     ]
    }
   ],
   "source": [
    "from typing import Annotated\n",
    "\n",
    "from sqlalchemy import ARRAY, String\n",
    "from sqlalchemy.orm import DeclarativeBase, Mapped, mapped_column\n",
    "\n",
    "from pydantic import BaseModel, ConfigDict, StringConstraints\n",
    "\n",
    "\n",
    "class Base(DeclarativeBase):\n",
    "    pass\n",
    "\n",
    "class CompanyOrm(Base):\n",
    "    __tablename__ = \"companies\"\n",
    "\n",
    "    id: Mapped[int] = mapped_column(primary_key = True, nullable=  False)\n",
    "    public_key: Mapped[str] = mapped_column(\n",
    "        String(20), index=True, nullable= False, unique=True\n",
    "    )\n",
    "    domains: Mapped[list[str]] = mapped_column(ARRAY(String(255)))\n",
    "\n",
    "class CompanyModel(BaseModel):\n",
    "    model_config = ConfigDict(from_attributes = True)\n",
    "\n",
    "    id: int\n",
    "    public_key: Annotated[str, StringConstraints(max_length=20)]\n",
    "    domains: list[Annotated[str, StringConstraints(max_length=255)]]\n",
    "\n",
    "\n",
    "co_orm = CompanyOrm(\n",
    "    id = 123,\n",
    "    public_key = 'foobar',\n",
    "    domains = ['example', 'foobar.com'],\n",
    ")\n",
    "print(co_orm)\n",
    "print()\n",
    "co_model = CompanyModel.model_validate(co_orm)\n",
    "print(co_model)"
   ]
  },
  {
   "cell_type": "markdown",
   "id": "9a78a3bd-a4af-45bc-adef-7658fc1b6c24",
   "metadata": {},
   "source": [
    "## Nested attributes\n",
    "When using attributes to parse models, model instances will be created from both top-level attributes and deeper-nested attributes as appropriate.\n"
   ]
  },
  {
   "cell_type": "code",
   "execution_count": 48,
   "id": "026f55ab-f7f3-4145-ada0-a3828a9a1290",
   "metadata": {},
   "outputs": [
    {
     "name": "stdout",
     "output_type": "stream",
     "text": [
      "name='Anna' age=20.0 pets=[Pet(name='Bones', species='dog'), Pet(name='Orion', species='cat')]\n"
     ]
    }
   ],
   "source": [
    "from pydantic import BaseModel, ConfigDict\n",
    "\n",
    "class PetCls:\n",
    "    def __init__(self, *, name: str, species: str):\n",
    "        self.name = name\n",
    "        self.species = species\n",
    "\n",
    "class PersonCls:\n",
    "    def __init__(self, *, name: str, age: float = None, pets: list[PetCls]):\n",
    "        self.name = name\n",
    "        self.age = age\n",
    "        self.pets = pets\n",
    "\n",
    "class Pet(BaseModel):\n",
    "    model_config = ConfigDict(from_attributes = True)\n",
    "\n",
    "    name: str\n",
    "    species: str\n",
    "\n",
    "class Person(BaseModel):\n",
    "    model_config = ConfigDict(from_attributes = True)\n",
    "\n",
    "    name: str\n",
    "    age: float = None\n",
    "    pets: list[Pet]\n",
    "\n",
    "bones = PetCls(name = \"Bones\", species = \"dog\")\n",
    "orion = PetCls(name = \"Orion\", species = 'cat')\n",
    "anna = PersonCls(name = \"Anna\", age = 20, pets = [bones, orion])\n",
    "anna_model = Person.model_validate(anna)\n",
    "\n",
    "print(anna_model)"
   ]
  },
  {
   "cell_type": "markdown",
   "id": "ffbe58c1-85b0-438c-a350-fe880bf7d0dc",
   "metadata": {},
   "source": [
    "## Error Handling\n",
    "Pydantic will raise a ValidationError exception whenever it finds an error in the data it's validating.\n"
   ]
  },
  {
   "cell_type": "code",
   "execution_count": 49,
   "id": "331ccb2a-7857-42b7-9fa6-82d8ca6444cc",
   "metadata": {},
   "outputs": [
    {
     "name": "stdout",
     "output_type": "stream",
     "text": [
      "2 validation errors for Model\n",
      "list_of_ints.2\n",
      "  Input should be a valid integer, unable to parse string as an integer [type=int_parsing, input_value='bad', input_type=str]\n",
      "    For further information visit https://errors.pydantic.dev/2.9/v/int_parsing\n",
      "a_float\n",
      "  Input should be a valid number, unable to parse string as a number [type=float_parsing, input_value='not a float', input_type=str]\n",
      "    For further information visit https://errors.pydantic.dev/2.9/v/float_parsing\n"
     ]
    }
   ],
   "source": [
    "from pydantic import BaseModel, ValidationError\n",
    "\n",
    "class Model(BaseModel):\n",
    "    list_of_ints: list[int]\n",
    "    a_float: float\n",
    "\n",
    "data = dict(\n",
    "    list_of_ints = ['1', 2, 'bad'],\n",
    "    a_float = 'not a float',\n",
    ")\n",
    "\n",
    "try: \n",
    "    Model(**data)\n",
    "except ValidationError as e:\n",
    "    print(e)"
   ]
  },
  {
   "cell_type": "code",
   "execution_count": null,
   "id": "014db0bd-c579-4222-a321-2af4f0407ba5",
   "metadata": {},
   "outputs": [],
   "source": []
  }
 ],
 "metadata": {
  "kernelspec": {
   "display_name": "Python 3 (ipykernel)",
   "language": "python",
   "name": "python3"
  },
  "language_info": {
   "codemirror_mode": {
    "name": "ipython",
    "version": 3
   },
   "file_extension": ".py",
   "mimetype": "text/x-python",
   "name": "python",
   "nbconvert_exporter": "python",
   "pygments_lexer": "ipython3",
   "version": "3.10.11"
  }
 },
 "nbformat": 4,
 "nbformat_minor": 5
}
