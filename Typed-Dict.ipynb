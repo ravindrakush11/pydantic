{
 "cells": [
  {
   "cell_type": "code",
   "execution_count": 7,
   "id": "2040fbb3-7edc-412c-813e-ff786100116e",
   "metadata": {},
   "outputs": [],
   "source": [
    "from typing import TypedDict\n",
    "\n",
    "class User(TypedDict):\n",
    "    name: str\n",
    "    age: str\n",
    "    is_active: bool\n",
    "\n",
    "user1: User = {\n",
    "    \"name\": \"Alice\",\n",
    "    \"age\": 30,\n",
    "    \"is_active\": True\n",
    "}"
   ]
  },
  {
   "cell_type": "code",
   "execution_count": 8,
   "id": "59c92464-2ebe-4e41-ab63-3783e2defb49",
   "metadata": {},
   "outputs": [
    {
     "name": "stdout",
     "output_type": "stream",
     "text": [
      "{'name': 'Bob', 'age': 'not an int', 'is_active': True}\n"
     ]
    }
   ],
   "source": [
    "user2: User = {\n",
    "    \"name\": \"Bob\",\n",
    "    \"age\": \"not an int\",   # ❌ Error: str instead of int\n",
    "    \"is_active\": True\n",
    "}\n",
    "print(user2)"
   ]
  },
  {
   "cell_type": "code",
   "execution_count": 10,
   "id": "37429bad-d670-4691-8b3a-74345b0816ab",
   "metadata": {},
   "outputs": [],
   "source": [
    "class PartialUser(TypedDict, total = False):\n",
    "    name: str\n",
    "    age: int\n",
    "\n",
    "partial: PartialUser = {\"name\": \"Charlie\"}"
   ]
  },
  {
   "cell_type": "code",
   "execution_count": 11,
   "id": "a0e1a5fa-eeef-475c-a7d7-19dd8cb79fe6",
   "metadata": {},
   "outputs": [],
   "source": [
    "# Combining Required and Optional Keys\n",
    "\n",
    "class MixedUser(TypedDict):\n",
    "    name: str\n",
    "    age: int\n",
    "\n",
    "class ExtendedUser(MixedUser, total = False):\n",
    "    is_active: bool\n",
    "    email: str\n",
    "\n"
   ]
  },
  {
   "cell_type": "code",
   "execution_count": 12,
   "id": "17e67839-2473-4b8b-b120-6811291cc9f2",
   "metadata": {},
   "outputs": [],
   "source": [
    "# Nested Typed Dict\n",
    "class Address(TypedDict):\n",
    "    city: str\n",
    "    zipcode: int\n",
    "\n",
    "class UserWithAddress(TypedDict):\n",
    "    name: str\n",
    "    address: Address\n",
    "\n",
    "user: UserWithAddress = {\n",
    "    \"name\": \"Ravi\",\n",
    "    \"address\": {\n",
    "        \"city\": \"Noida\",\n",
    "        \"zipcode\": 201301\n",
    "    }\n",
    "}\n"
   ]
  },
  {
   "cell_type": "code",
   "execution_count": 13,
   "id": "d9fd5f5b-e463-42cc-bc23-6aea04c33958",
   "metadata": {},
   "outputs": [
    {
     "name": "stdout",
     "output_type": "stream",
     "text": [
      "Hello Alice!\n"
     ]
    }
   ],
   "source": [
    "# Using TypedDict with Functions\n",
    "\n",
    "def greet_user(user: User) -> str:\n",
    "    return f\"Hello {user['name']}!\"\n",
    "\n",
    "print(greet_user(user1))"
   ]
  }
 ],
 "metadata": {
  "kernelspec": {
   "display_name": "Python 3 (ipykernel)",
   "language": "python",
   "name": "python3"
  },
  "language_info": {
   "codemirror_mode": {
    "name": "ipython",
    "version": 3
   },
   "file_extension": ".py",
   "mimetype": "text/x-python",
   "name": "python",
   "nbconvert_exporter": "python",
   "pygments_lexer": "ipython3",
   "version": "3.10.11"
  }
 },
 "nbformat": 4,
 "nbformat_minor": 5
}
