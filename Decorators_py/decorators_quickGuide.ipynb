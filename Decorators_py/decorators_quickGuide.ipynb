{
 "cells": [
  {
   "cell_type": "markdown",
   "id": "6304f3f2-0eda-4baf-bb37-2a8c2d2f1567",
   "metadata": {},
   "source": [
    "### What is a **Decorator?**\n",
    "\n",
    "A decorator is a function that wraps another function to modify or extend its behavior, without changing its code."
   ]
  },
  {
   "cell_type": "code",
   "execution_count": 8,
   "id": "5e1c5082-fec9-4c0b-936a-f8695494b560",
   "metadata": {},
   "outputs": [
    {
     "name": "stdout",
     "output_type": "stream",
     "text": [
      "Before the func run.\n",
      "Hello\n",
      "After the func run.\n"
     ]
    }
   ],
   "source": [
    "def decorator_(original_func):\n",
    "    def wrapper():\n",
    "        print(\"Before the func run.\")\n",
    "        original_func()\n",
    "        print(\"After the func run.\")\n",
    "    return wrapper\n",
    "\n",
    "\n",
    "@decorator_\n",
    "def say_hello():\n",
    "    print(\"Hello\")\n",
    "\n",
    "say_hello()"
   ]
  },
  {
   "cell_type": "code",
   "execution_count": 9,
   "id": "968618b3-d21d-4bed-9e08-7d6b3d0aeaef",
   "metadata": {},
   "outputs": [
    {
     "name": "stdout",
     "output_type": "stream",
     "text": [
      "Before function call\n",
      "Hello\n",
      "After function call\n"
     ]
    }
   ],
   "source": [
    "def simple_decorator(func):\n",
    "    def wrapper():\n",
    "        print(\"Before function call\")\n",
    "        func()\n",
    "        print(\"After function call\")\n",
    "    return wrapper\n",
    "\n",
    "@simple_decorator\n",
    "def greet():\n",
    "    print(\"Hello\")\n",
    "\n",
    "greet()"
   ]
  },
  {
   "cell_type": "code",
   "execution_count": 11,
   "id": "25ce1eec-b297-4e5d-a59c-48329998fcf0",
   "metadata": {},
   "outputs": [
    {
     "name": "stdout",
     "output_type": "stream",
     "text": [
      "Arguments:  (3, 4) {}\n",
      "7\n"
     ]
    }
   ],
   "source": [
    "# Decorator with Arguments support\n",
    "\n",
    "def with_args_decorator(func):\n",
    "    def wrapper(*args, **kwargs):\n",
    "        print(\"Arguments: \", args, kwargs)\n",
    "        return func(*args, **kwargs)\n",
    "    return wrapper\n",
    "\n",
    "@with_args_decorator\n",
    "def add(x, y):\n",
    "    return x+y\n",
    "\n",
    "a = add(3, 4)\n",
    "print(a)"
   ]
  },
  {
   "cell_type": "markdown",
   "id": "b9788b90-1c6f-4f76-bdbc-c959718c8101",
   "metadata": {},
   "source": [
    "### 1.3 Decorator Without @ Syntax (Manual use)\n"
   ]
  },
  {
   "cell_type": "code",
   "execution_count": 17,
   "id": "b86410cd-5a2a-4245-9ed1-73fbd2060ffd",
   "metadata": {},
   "outputs": [
    {
     "name": "stdout",
     "output_type": "stream",
     "text": [
      "Wrapped!\n",
      "Hello\n"
     ]
    }
   ],
   "source": [
    "def say_hello():\n",
    "    print(\"Hello\")\n",
    "\n",
    "def decorator(func):\n",
    "    def wrapper():\n",
    "        print(\"Wrapped!\")\n",
    "        func()\n",
    "    return wrapper\n",
    "\n",
    "say = decorator(say_hello)\n",
    "say()"
   ]
  },
  {
   "cell_type": "markdown",
   "id": "ab4dba55-1254-4de1-a956-90923a269553",
   "metadata": {},
   "source": [
    "## Multiple Decorators (Stacked)"
   ]
  },
  {
   "cell_type": "code",
   "execution_count": 21,
   "id": "acbcf67e-3e5c-4bdb-9d20-8b6bd47cef6d",
   "metadata": {},
   "outputs": [
    {
     "name": "stdout",
     "output_type": "stream",
     "text": [
      "Decor 1\n",
      "Decor 2\n",
      "Hi\n"
     ]
    }
   ],
   "source": [
    "def dec1(func):\n",
    "    def wrapper():\n",
    "        print(\"Decor 1\")\n",
    "        func()\n",
    "    return wrapper\n",
    "\n",
    "def dec2(func):\n",
    "    def wrapper():\n",
    "        print(\"Decor 2\")\n",
    "        func()\n",
    "    return wrapper\n",
    "\n",
    "@dec1\n",
    "@dec2\n",
    "def say_hi():\n",
    "    print(\"Hi\")\n",
    "\n",
    "say_hi()"
   ]
  },
  {
   "cell_type": "markdown",
   "id": "7b8decf0-6fa8-4db0-8711-1f179c0487b1",
   "metadata": {},
   "source": [
    "### ✅ SECTION 2: USEFUL PRACTICAL DECORATORS"
   ]
  },
  {
   "cell_type": "code",
   "execution_count": 22,
   "id": "a2349a8b-893b-43d6-b5df-c7865ce97716",
   "metadata": {},
   "outputs": [
    {
     "name": "stdout",
     "output_type": "stream",
     "text": [
      "Calling multiply with (3, 4) and {}\n",
      "multiply returned 12\n"
     ]
    },
    {
     "data": {
      "text/plain": [
       "12"
      ]
     },
     "execution_count": 22,
     "metadata": {},
     "output_type": "execute_result"
    }
   ],
   "source": [
    "# Logging Function Execution\n",
    "\n",
    "def logger(func):\n",
    "    def wrapper(*args, **kwargs):\n",
    "        print(f\"Calling {func.__name__} with {args} and {kwargs}\")\n",
    "        result = func(*args, **kwargs)\n",
    "        print(f\"{func.__name__} returned {result}\")\n",
    "        return result\n",
    "    return wrapper\n",
    "\n",
    "@logger\n",
    "def multiply(x, y):\n",
    "    return x*y\n",
    "\n",
    "multiply(3, 4)"
   ]
  },
  {
   "cell_type": "code",
   "execution_count": 23,
   "id": "35515c53-e9c8-4b1b-93f3-26809bcf17cc",
   "metadata": {},
   "outputs": [
    {
     "name": "stdout",
     "output_type": "stream",
     "text": [
      "slow_function took 2.0036 seconds\n"
     ]
    }
   ],
   "source": [
    "# Timing Execution\n",
    "import time\n",
    "\n",
    "def timer(func):\n",
    "    def wrapper(*args, **kwargs):\n",
    "        start = time.time()\n",
    "        result = func(*args, **kwargs)\n",
    "        end = time.time()\n",
    "        print(f\"{func.__name__} took {end - start:.4f} seconds\")\n",
    "        return result\n",
    "    return wrapper\n",
    "\n",
    "@timer\n",
    "def slow_function():\n",
    "    time.sleep(2)\n",
    "\n",
    "slow_function()"
   ]
  },
  {
   "cell_type": "code",
   "execution_count": 28,
   "id": "cd3e80d7-a545-49c8-aaf5-32887f27e282",
   "metadata": {},
   "outputs": [
    {
     "name": "stdout",
     "output_type": "stream",
     "text": [
      "Profile Page\n",
      "Access denied.\n"
     ]
    }
   ],
   "source": [
    "# Access Control / Authentication\n",
    "\n",
    "def require_login(func):\n",
    "    def wrapper(user):\n",
    "        if not user.get(\"is_authenticated\"):\n",
    "            print(\"Access denied.\")\n",
    "            return \n",
    "        return func(user)\n",
    "    return wrapper\n",
    "\n",
    "@require_login\n",
    "def view_profile(user):\n",
    "    print(\"Profile Page\")\n",
    "\n",
    "\n",
    "view_profile({\"name\": \"ravin\",\n",
    "             \"is_authenticated\": True})\n",
    "\n",
    "view_profile({\"name\": \"Deepa\",\n",
    "             \"is_authenticated\": False})\n"
   ]
  },
  {
   "cell_type": "code",
   "execution_count": 32,
   "id": "1d3b3317-0e04-4d77-adea-bda0a82326db",
   "metadata": {},
   "outputs": [
    {
     "name": "stdout",
     "output_type": "stream",
     "text": [
      "say_hello has been called 1 times\n",
      "Hello!\n",
      "say_hello has been called 2 times\n",
      "Hello!\n"
     ]
    }
   ],
   "source": [
    "# Counting how many times a function is called\n",
    "\n",
    "def counter_decorator(func):\n",
    "    count = 0\n",
    "    def wrapper(*args, **kwargs):\n",
    "        nonlocal count\n",
    "        count += 1\n",
    "        print(f\"{func.__name__} has been called {count} times\")\n",
    "        return func(*args, **kwargs)\n",
    "    return wrapper\n",
    "\n",
    "@counter_decorator\n",
    "def say_hello():\n",
    "    print(\"Hello!\")\n",
    "\n",
    "say_hello()\n",
    "say_hello()"
   ]
  },
  {
   "cell_type": "markdown",
   "id": "fd6c3d68-934e-4f18-91b5-c392bfcb4aeb",
   "metadata": {},
   "source": [
    "### ✅ SECTION 3: DECORATORS WITH ARGUMENTS (FACTORY DECORATORS)"
   ]
  },
  {
   "cell_type": "code",
   "execution_count": 39,
   "id": "b855e516-69b5-4a94-beec-40430915ba97",
   "metadata": {},
   "outputs": [
    {
     "name": "stdout",
     "output_type": "stream",
     "text": [
      "Hello!\n",
      "Hello!\n",
      "Hello!\n",
      "Hello!\n"
     ]
    }
   ],
   "source": [
    "# 3.1 Decorator Factory Example\n",
    "def repeat(n):\n",
    "    def decorator(func):\n",
    "        def wrapper(*args, **kwargs):\n",
    "            for _ in range(n):\n",
    "                func(*args, **kwargs)\n",
    "        return wrapper\n",
    "    return decorator\n",
    "\n",
    "@repeat(4)\n",
    "def hello():\n",
    "    print(\"Hello!\")\n",
    "\n",
    "hello()"
   ]
  },
  {
   "cell_type": "code",
   "execution_count": 40,
   "id": "0f79949b-ba8c-4a90-89d9-f51ebcd5e24b",
   "metadata": {},
   "outputs": [
    {
     "name": "stdout",
     "output_type": "stream",
     "text": [
      "User deleted!\n",
      "Permission denied\n"
     ]
    }
   ],
   "source": [
    "# 3.2 Role-based Access Control (RBAC)\n",
    "def require_role(role):\n",
    "    def decorator(func):\n",
    "        def wrapper(user):\n",
    "            if user.get(\"role\") != role:\n",
    "                print(\"Permission denied\")\n",
    "                return \n",
    "            return func(user)\n",
    "        return wrapper\n",
    "    return decorator\n",
    "\n",
    "\n",
    "@require_role(\"admin\")\n",
    "def delete_user(user):\n",
    "    print(\"User deleted!\")\n",
    "\n",
    "delete_user({'name': 'John', 'role': 'admin'})\n",
    "delete_user({'name': 'Doe', 'role': 'guest'})"
   ]
  },
  {
   "cell_type": "markdown",
   "id": "db8fc3cb-f40c-4d5c-a484-c3991f7a06ef",
   "metadata": {},
   "source": [
    "## ✅ SECTION 4: FUNCTIONAL & ADVANCED TECHNIQUES"
   ]
  },
  {
   "cell_type": "code",
   "execution_count": null,
   "id": "00af3f57-2a9d-4771-8397-c023709a777d",
   "metadata": {},
   "outputs": [],
   "source": []
  },
  {
   "cell_type": "code",
   "execution_count": null,
   "id": "5d65ad4c-2d7f-46db-81f6-17554cb26fac",
   "metadata": {},
   "outputs": [],
   "source": []
  },
  {
   "cell_type": "code",
   "execution_count": null,
   "id": "b72a47c4-06dd-4eed-9cfd-3708eaa655d5",
   "metadata": {},
   "outputs": [],
   "source": []
  },
  {
   "cell_type": "code",
   "execution_count": null,
   "id": "20fdb74b-c602-46e0-8f6a-bf9c1da8a677",
   "metadata": {},
   "outputs": [],
   "source": []
  },
  {
   "cell_type": "code",
   "execution_count": null,
   "id": "b36876c3-962e-492b-9e48-22f5e5004027",
   "metadata": {},
   "outputs": [],
   "source": []
  },
  {
   "cell_type": "code",
   "execution_count": null,
   "id": "8a15db38-d77a-4593-ba5c-7f4d20b535f0",
   "metadata": {},
   "outputs": [],
   "source": []
  },
  {
   "cell_type": "code",
   "execution_count": null,
   "id": "3b6e28e1-d129-444f-84ab-4ff55d3663b2",
   "metadata": {},
   "outputs": [],
   "source": []
  }
 ],
 "metadata": {
  "kernelspec": {
   "display_name": "Python 3 (ipykernel)",
   "language": "python",
   "name": "python3"
  },
  "language_info": {
   "codemirror_mode": {
    "name": "ipython",
    "version": 3
   },
   "file_extension": ".py",
   "mimetype": "text/x-python",
   "name": "python",
   "nbconvert_exporter": "python",
   "pygments_lexer": "ipython3",
   "version": "3.10.11"
  }
 },
 "nbformat": 4,
 "nbformat_minor": 5
}
